{
 "cells": [
  {
   "cell_type": "code",
   "execution_count": null,
   "metadata": {
    "collapsed": false
   },
   "outputs": [],
   "source": [
    "from math import *\n",
    "\n",
    "x= input(\"X \")\n",
    "s= input(\"Cifras Significativas n \")\n",
    "\n",
    "Es= 0.5*10**(2-s) \n",
    "\n",
    "valor_aprox_act= 1\n",
    "valor_aprox_ant= 0\n",
    "Ea= 0\n",
    "it= 1\n",
    "\n",
    "print \"\\nError Tolerado: \",Es,\"%\"\n",
    "print \"\\nIter | Valor Actual | Valor Anterior | Ea\\s\"\n",
    "\n",
    "Ea= (valor_aprox_act - valor_aprox_ant)/valor_aprox_act\n",
    "\n",
    "while True:\n",
    "    print \"%d    | %f     | %f       | %f\\n\" %(it, valor_aprox_act, valor_aprox_ant, Ea)\n",
    "\n",
    "    valor_aprox_ant= valor_aprox_act\n",
    "    valor_aprox_act= ((x**it)/factorial(it)) + valor_aprox_ant\n",
    "    Ea= (valor_aprox_act - valor_aprox_ant)/valor_aprox_act    \n",
    "    it+=1 \n",
    "    \n",
    "    if Ea < Es:\n",
    "        print \"%d     | %f    | %f       | %f\\n\" %(it, valor_aprox_act, valor_aprox_ant, Ea)\n",
    "        break"
   ]
  },
  {
   "cell_type": "code",
   "execution_count": null,
   "metadata": {
    "collapsed": true
   },
   "outputs": [],
   "source": []
  }
 ],
 "metadata": {
  "kernelspec": {
   "display_name": "Python 2",
   "language": "python",
   "name": "python2"
  },
  "language_info": {
   "codemirror_mode": {
    "name": "ipython",
    "version": 2
   },
   "file_extension": ".py",
   "mimetype": "text/x-python",
   "name": "python",
   "nbconvert_exporter": "python",
   "pygments_lexer": "ipython2",
   "version": "2.7.10"
  }
 },
 "nbformat": 4,
 "nbformat_minor": 0
}
