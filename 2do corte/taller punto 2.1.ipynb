{
 "cells": [
  {
   "cell_type": "code",
   "execution_count": 1,
   "metadata": {
    "collapsed": false
   },
   "outputs": [
    {
     "name": "stdout",
     "output_type": "stream",
     "text": [
      "[[5 2 0]\n",
      " [1 0 1]\n",
      " [0 3 8]]\n",
      "[[50]\n",
      " [10]\n",
      " [20]]\n",
      "[[5 1 0]\n",
      " [2 0 3]\n",
      " [0 1 8]]\n",
      "[[50 10 20]]\n"
     ]
    }
   ],
   "source": [
    "import math\n",
    "import numpy as np\n",
    "\n",
    "sum=0\n",
    "n = np.array([[5,2,0], [1,0,1], [0,3,8]])#matriz a\n",
    "\n",
    "b = np.array([[50],[10],[20]]) #matriz b\n",
    "\n",
    "#TRANSPUESTA \n",
    "\n",
    "n1 = np.array([[5,1,0], [2,0,3], [0,1,8]])#matriz a\n",
    "\n",
    "b2 = np.array([[50,10,20]]) #matriz b\n",
    "\n",
    "print n\n",
    "print b\n",
    "print n1\n",
    "print b2\n",
    "    "
   ]
  },
  {
   "cell_type": "code",
   "execution_count": null,
   "metadata": {
    "collapsed": true
   },
   "outputs": [],
   "source": []
  }
 ],
 "metadata": {
  "kernelspec": {
   "display_name": "Python 2",
   "language": "python",
   "name": "python2"
  },
  "language_info": {
   "codemirror_mode": {
    "name": "ipython",
    "version": 2
   },
   "file_extension": ".py",
   "mimetype": "text/x-python",
   "name": "python",
   "nbconvert_exporter": "python",
   "pygments_lexer": "ipython2",
   "version": "2.7.10"
  }
 },
 "nbformat": 4,
 "nbformat_minor": 0
}
