{
 "cells": [
  {
   "cell_type": "code",
   "execution_count": 13,
   "metadata": {
    "collapsed": false
   },
   "outputs": [],
   "source": [
    "import math\n",
    "import matplotlib.pyplot as plt \n",
    "\n",
    "def fun1(x):\n",
    "    x2=1+((1.0/2.0)*x)\n",
    "    return x2\n",
    "    \n",
    "def fun2(x):\n",
    "    x2= ((1.0/2.0)+(1.0/2.0)*x)\n",
    "    return x2\n",
    "\n",
    "def fun3(x):\n",
    "    x2=1+((1.0/2.0)*x)\n",
    "    return x2\n",
    "\n",
    "def fun4(x):\n",
    "    x2=1+((1.0/2.0)*x)\n",
    "    return x2\n",
    "\n",
    "def fun5(x):\n",
    "    x2=1.1+((2.3/5.0)*x)\n",
    "    return x2\n",
    "\n",
    "def fun6(x):\n",
    "    x2=1.0+((1.0/2.0)*x)\n",
    "    return x2\n",
    "\n",
    "v1=[]\n",
    "v2=[]\n",
    "v3=[]\n",
    "v4=[]\n",
    "v5=[]\n",
    "v6=[]\n",
    "x=[]\n",
    "\n",
    "for i in range (10):\n",
    "    v1.append(fun1(i))\n",
    "    v2.append(fun2(i))\n",
    "    v3.append(fun3(i))\n",
    "    v4.append(fun4(i))\n",
    "    v5.append(fun5(i))\n",
    "    v6.append(fun6(i))\n",
    "    x.append(i)\n",
    "    \n",
    "plt.figure (\"no hay solucion\")\n",
    "plt.title(\"Grafica de dos ecuaciones algebraicas lineales\")\n",
    "plt.plot (x,v1)\n",
    "plt.plot (x,v2)\n",
    "plt.grid()\n",
    "plt.show()\n",
    "             \n",
    "plt.figure (\"hay una infinidad de soluciones\")\n",
    "plt.plot (x,v3)\n",
    "plt.plot (x,v4)\n",
    "plt.grid()\n",
    "plt.show()\n",
    "\n",
    "plt.figure (\"sistema mal condicionado\")\n",
    "plt.plot (x,v5)\n",
    "plt.plot (x,v6)\n",
    "plt.grid()\n",
    "plt.show()"
   ]
  },
  {
   "cell_type": "code",
   "execution_count": null,
   "metadata": {
    "collapsed": true
   },
   "outputs": [],
   "source": []
  }
 ],
 "metadata": {
  "kernelspec": {
   "display_name": "Python 2",
   "language": "python",
   "name": "python2"
  },
  "language_info": {
   "codemirror_mode": {
    "name": "ipython",
    "version": 2
   },
   "file_extension": ".py",
   "mimetype": "text/x-python",
   "name": "python",
   "nbconvert_exporter": "python",
   "pygments_lexer": "ipython2",
   "version": "2.7.10"
  }
 },
 "nbformat": 4,
 "nbformat_minor": 0
}
