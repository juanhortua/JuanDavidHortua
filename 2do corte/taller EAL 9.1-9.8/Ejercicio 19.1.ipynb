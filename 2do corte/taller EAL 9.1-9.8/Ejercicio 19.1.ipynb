{
 "cells": [
  {
   "cell_type": "code",
   "execution_count": 4,
   "metadata": {
    "collapsed": false
   },
   "outputs": [
    {
     "name": "stdout",
     "output_type": "stream",
     "text": [
      "\n",
      "Sistema de Ecuaciones:\n",
      "50 = 5X3 + 2X2\n",
      "10-X1 = X3\n",
      "3X2 + 8X1 = 20\n",
      "\n",
      "a) Forma Matricial Coeficientes\n",
      "[[  0   2   5  50]\n",
      " [ -1   0  -1 -10]\n",
      " [  8   0   3  20]]\n",
      "\n",
      "b) Transpuesta Matriz Coeficientes\n",
      "[[  0.  -1.   8.]\n",
      " [  2.   0.   0.]\n",
      " [  5.  -1.   3.]\n",
      " [ 50. -10.  20.]]\n"
     ]
    }
   ],
   "source": [
    "import numpy as np\n",
    "from opermat import *\n",
    "\n",
    "print \"\\nSistema de Ecuaciones:\"\n",
    "print \"50 = 5X3 + 2X2\"\n",
    "print \"10-X1 = X3\"\n",
    "print \"3X2 + 8X1 = 20\"\n",
    "\n",
    "print \"\\na) Forma Matricial Coeficientes\"\n",
    "M = np.array([[0, 2, 5, 50], [-1, 0, -1, -10], [8, 0, 3, 20]])\n",
    "print M\n",
    "\n",
    "print \"\\nb) Transpuesta Matriz Coeficientes\"\n",
    "op = OperMat()\n",
    "T = op.transpuesta(M)\n",
    "print T"
   ]
  },
  {
   "cell_type": "code",
   "execution_count": null,
   "metadata": {
    "collapsed": true
   },
   "outputs": [],
   "source": []
  }
 ],
 "metadata": {
  "kernelspec": {
   "display_name": "Python 2",
   "language": "python",
   "name": "python2"
  },
  "language_info": {
   "codemirror_mode": {
    "name": "ipython",
    "version": 2
   },
   "file_extension": ".py",
   "mimetype": "text/x-python",
   "name": "python",
   "nbconvert_exporter": "python",
   "pygments_lexer": "ipython2",
   "version": "2.7.10"
  }
 },
 "nbformat": 4,
 "nbformat_minor": 0
}
